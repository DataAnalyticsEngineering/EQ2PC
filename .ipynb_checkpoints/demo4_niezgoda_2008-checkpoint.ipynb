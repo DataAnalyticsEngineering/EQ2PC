{
 "cells": [
  {
   "cell_type": "markdown",
   "metadata": {},
   "source": [
    "# Demo 4: Limitations of Niezgoda et al (2008)\n",
    "\n",
    "* Author: Mauricio Fernández\n",
    "* Date of creation: 2020-06-10\n",
    "* Last update: 2020-06-12\n",
    "\n",
    "Table of contents\n",
    "\n",
    "* [1. Counterexample for uniqueness of solution](#1.-Counterexample-for-uniqueness-of-solution)\n",
    "* [2. Example for vanishing DFT in all phases](#2.-Example-for-vanishing-DFT-in-all-phases)"
   ]
  },
  {
   "cell_type": "markdown",
   "metadata": {},
   "source": [
    "## Description\n",
    "The present notebook demonstrates some limitations encountered by the authors while testing 2pc-equivalence with respect to the published work\n",
    "\n",
    "* [NFK] Niezgoda, S.R., Fullwood, D.T., and Kalidindi, S.R. (2008): **Delineation of the space of 2-point correlations in a composite material system**. *Acta Materialia* 56, 5285 - 5292.\n",
    "\n",
    "An explicit analytic counterexample for the uniqueness of solution based on the system of equations considered in NFK is provided. A second analytic example is presented, in which DFT components of the auto-correlations vanish for all phases. This also implies that structures exists, for which the approach of NFK is not applicable."
   ]
  },
  {
   "cell_type": "code",
   "execution_count": 1,
   "metadata": {},
   "outputs": [],
   "source": [
    "import sympy as sym\n",
    "\n",
    "import src.nfk2008 as nfk"
   ]
  },
  {
   "cell_type": "markdown",
   "metadata": {},
   "source": [
    "## 1. Counterexample for uniqueness of solution"
   ]
  },
  {
   "cell_type": "markdown",
   "metadata": {},
   "source": [
    "Structure `S`, number of phases `n` and period vector `P`"
   ]
  },
  {
   "cell_type": "code",
   "execution_count": 30,
   "metadata": {},
   "outputs": [
    {
     "data": {
      "text/latex": [
       "$\\displaystyle \\left[\\begin{matrix}2 & 3 & 1\\\\2 & 2 & 1\\\\2 & 3 & 3\\\\2 & 2 & 3\\end{matrix}\\right]$"
      ],
      "text/plain": [
       "Matrix([\n",
       "[2, 3, 1],\n",
       "[2, 2, 1],\n",
       "[2, 3, 3],\n",
       "[2, 2, 3]])"
      ]
     },
     "execution_count": 30,
     "metadata": {},
     "output_type": "execute_result"
    }
   ],
   "source": [
    "S = sym.Matrix([\n",
    "    [2,3,1],\n",
    "    [2,2,1],\n",
    "    [2,3,3],\n",
    "    [2,2,3]\n",
    "])\n",
    "n = max(S)\n",
    "P = S.shape\n",
    "S"
   ]
  },
  {
   "cell_type": "markdown",
   "metadata": {},
   "source": [
    "Compute 2PC `Cs` and DFT of 2PC `Csf` for structure"
   ]
  },
  {
   "cell_type": "code",
   "execution_count": 24,
   "metadata": {},
   "outputs": [
    {
     "data": {
      "text/latex": [
       "$\\displaystyle \\left[\\begin{matrix}4 & 4 & 4\\\\2 & 2 & 2\\\\0 & 0 & 0\\\\2 & 2 & 2\\end{matrix}\\right]$"
      ],
      "text/plain": [
       "Matrix([\n",
       "[4, 4, 4],\n",
       "[2, 2, 2],\n",
       "[0, 0, 0],\n",
       "[2, 2, 2]])"
      ]
     },
     "execution_count": 24,
     "metadata": {},
     "output_type": "execute_result"
    }
   ],
   "source": [
    "Cs = nfk.rCs(S)\n",
    "Csf = [\n",
    "    [nfk.dft(Cs[a][b]).expand().simplify() for b in range(n)] \n",
    "    for a in range(n)\n",
    "]\n",
    "Csf[0][0]"
   ]
  },
  {
   "cell_type": "markdown",
   "metadata": {},
   "source": [
    "Check if the computed DFT `Csf` fulfill the system of equations of NFK"
   ]
  },
  {
   "cell_type": "code",
   "execution_count": 25,
   "metadata": {},
   "outputs": [
    {
     "data": {
      "text/plain": [
       "True"
      ]
     },
     "execution_count": 25,
     "metadata": {},
     "output_type": "execute_result"
    }
   ],
   "source": [
    "nfk.check_system(Csf)"
   ]
  },
  {
   "cell_type": "markdown",
   "metadata": {},
   "source": [
    "Perturbation in DFT space"
   ]
  },
  {
   "cell_type": "code",
   "execution_count": 26,
   "metadata": {},
   "outputs": [],
   "source": [
    "z = sym.zeros(*P)\n",
    "Delta = [[z,z,z],[z,z,z],[z,z,z]]\n",
    "Delta[1][1] = sym.Matrix([[0,0,0],[0,0,0],[-2,1,1],[0,0,0]])\n",
    "Delta[2][2] = Delta[1][1]\n",
    "Delta[1][2] = -Delta[1][1]\n",
    "Delta[2][1] = Delta[1][2]"
   ]
  },
  {
   "cell_type": "markdown",
   "metadata": {},
   "source": [
    "Perturbed DFT"
   ]
  },
  {
   "cell_type": "code",
   "execution_count": 27,
   "metadata": {},
   "outputs": [],
   "source": [
    "Csf_Delta = [\n",
    "    [Csf[a][b] + Delta[a][b] for b in range(n)] \n",
    "    for a in range(n)\n",
    "]"
   ]
  },
  {
   "cell_type": "markdown",
   "metadata": {},
   "source": [
    "Check that all DFT are identical for choice $\\gamma = 1$"
   ]
  },
  {
   "cell_type": "code",
   "execution_count": 28,
   "metadata": {},
   "outputs": [
    {
     "data": {
      "text/plain": [
       "True"
      ]
     },
     "execution_count": 28,
     "metadata": {},
     "output_type": "execute_result"
    }
   ],
   "source": [
    "all([\n",
    "    Csf[0][b]==Csf_Delta[0][b] and Csf[b][0]==Csf_Delta[b][0] \n",
    "    for b in range(n)\n",
    "])"
   ]
  },
  {
   "cell_type": "markdown",
   "metadata": {},
   "source": [
    "Check that perturbed DFTs `Csf_Delta` fulfill system of equations of NFK"
   ]
  },
  {
   "cell_type": "code",
   "execution_count": 29,
   "metadata": {},
   "outputs": [
    {
     "data": {
      "text/plain": [
       "True"
      ]
     },
     "execution_count": 29,
     "metadata": {},
     "output_type": "execute_result"
    }
   ],
   "source": [
    "nfk.check_system(Csf_Delta)"
   ]
  },
  {
   "cell_type": "markdown",
   "metadata": {},
   "source": [
    "In a nonlinear system $f(x,y) = 0$ with given $y$, if $x_1 \\neq x_2$ fulfill $f(x_1,y) = 0$ and $f(x_2,y) = 0$, then the system is **not** uniquely solvable. In the present example $y$ corresponds to the assumed given DFTs for $\\gamma = 1$ (identical for `Csf` and `Csf_Delta`). Then, $x_1$ and $x_2$ correspond to the remaining DFT of `Csf` and `Csf_Delta`, which naturally differ exactly by `Delta`, i.e., $x_1 \\neq x_2$. The system $f(x,y) = 0$ corresponds to the system of equations listed in NFK, i.e., `nfk.check_system`. The system of NFK is **not** uniquely solvable, as proven by this example."
   ]
  },
  {
   "cell_type": "markdown",
   "metadata": {},
   "source": [
    "## 2. Example for vanishing DFT in all phases"
   ]
  },
  {
   "cell_type": "markdown",
   "metadata": {},
   "source": [
    "Structure with 3 phases"
   ]
  },
  {
   "cell_type": "code",
   "execution_count": 31,
   "metadata": {},
   "outputs": [],
   "source": [
    "S = sym.Matrix([\n",
    "    [1,1,3],\n",
    "    [1,2,3],\n",
    "    [1,1,3],\n",
    "    [3,1,2]\n",
    "])\n",
    "n = max(S)"
   ]
  },
  {
   "cell_type": "markdown",
   "metadata": {},
   "source": [
    "2PC and DFT of all phases"
   ]
  },
  {
   "cell_type": "code",
   "execution_count": 32,
   "metadata": {},
   "outputs": [],
   "source": [
    "Cs = nfk.rCs(S)\n",
    "Csf = [\n",
    "    [nfk.dft(Cs[a][b]).expand().simplify() for b in range(n)] \n",
    "    for a in range(n)\n",
    "]"
   ]
  },
  {
   "cell_type": "markdown",
   "metadata": {},
   "source": [
    "Vanishing DFT components in all auto-correlations $C_{11}, C_{22}$ and $C_{33}$"
   ]
  },
  {
   "cell_type": "code",
   "execution_count": 33,
   "metadata": {},
   "outputs": [
    {
     "data": {
      "text/latex": [
       "$\\displaystyle \\left[\\begin{matrix}36 & 18 - 9 \\sqrt[3]{-1} + 9 e^{\\frac{2 i \\pi}{3}} & 18 - 9 \\sqrt[3]{-1} + 9 e^{\\frac{2 i \\pi}{3}}\\\\0 & 2 - \\left(-1\\right)^{\\frac{2}{3}} + \\sqrt[3]{-1} & 2 - \\left(-1\\right)^{\\frac{2}{3}} + \\sqrt[3]{-1}\\\\4 & 2 - \\sqrt[3]{-1} + e^{\\frac{2 i \\pi}{3}} & 2 - \\sqrt[3]{-1} + e^{\\frac{2 i \\pi}{3}}\\\\0 & 2 - \\left(-1\\right)^{\\frac{2}{3}} + \\sqrt[3]{-1} & 2 - \\left(-1\\right)^{\\frac{2}{3}} + \\sqrt[3]{-1}\\end{matrix}\\right]$"
      ],
      "text/plain": [
       "Matrix([\n",
       "[36, 18 - 9*(-1)**(1/3) + 9*exp(2*I*pi/3), 18 - 9*(-1)**(1/3) + 9*exp(2*I*pi/3)],\n",
       "[ 0,        2 - (-1)**(2/3) + (-1)**(1/3),        2 - (-1)**(2/3) + (-1)**(1/3)],\n",
       "[ 4,      2 - (-1)**(1/3) + exp(2*I*pi/3),      2 - (-1)**(1/3) + exp(2*I*pi/3)],\n",
       "[ 0,        2 - (-1)**(2/3) + (-1)**(1/3),        2 - (-1)**(2/3) + (-1)**(1/3)]])"
      ]
     },
     "execution_count": 33,
     "metadata": {},
     "output_type": "execute_result"
    }
   ],
   "source": [
    "Csf[0][0]"
   ]
  },
  {
   "cell_type": "code",
   "execution_count": 34,
   "metadata": {},
   "outputs": [
    {
     "data": {
      "text/latex": [
       "$\\displaystyle \\left[\\begin{matrix}4 & 2 - \\sqrt[3]{-1} + e^{\\frac{2 i \\pi}{3}} & 2 - \\sqrt[3]{-1} + e^{\\frac{2 i \\pi}{3}}\\\\0 & 2 - \\left(-1\\right)^{\\frac{2}{3}} + \\sqrt[3]{-1} & 2 - \\left(-1\\right)^{\\frac{2}{3}} + \\sqrt[3]{-1}\\\\4 & 2 - \\sqrt[3]{-1} + e^{\\frac{2 i \\pi}{3}} & 2 - \\sqrt[3]{-1} + e^{\\frac{2 i \\pi}{3}}\\\\0 & 2 - \\left(-1\\right)^{\\frac{2}{3}} + \\sqrt[3]{-1} & 2 - \\left(-1\\right)^{\\frac{2}{3}} + \\sqrt[3]{-1}\\end{matrix}\\right]$"
      ],
      "text/plain": [
       "Matrix([\n",
       "[4, 2 - (-1)**(1/3) + exp(2*I*pi/3), 2 - (-1)**(1/3) + exp(2*I*pi/3)],\n",
       "[0,   2 - (-1)**(2/3) + (-1)**(1/3),   2 - (-1)**(2/3) + (-1)**(1/3)],\n",
       "[4, 2 - (-1)**(1/3) + exp(2*I*pi/3), 2 - (-1)**(1/3) + exp(2*I*pi/3)],\n",
       "[0,   2 - (-1)**(2/3) + (-1)**(1/3),   2 - (-1)**(2/3) + (-1)**(1/3)]])"
      ]
     },
     "execution_count": 34,
     "metadata": {},
     "output_type": "execute_result"
    }
   ],
   "source": [
    "Csf[1][1]"
   ]
  },
  {
   "cell_type": "code",
   "execution_count": 35,
   "metadata": {},
   "outputs": [
    {
     "data": {
      "text/latex": [
       "$\\displaystyle \\left[\\begin{matrix}16 & 10 - 3 \\sqrt[3]{-1} + 3 \\left(-1\\right)^{\\frac{2}{3}} & 10 - 3 \\sqrt[3]{-1} + 3 \\left(-1\\right)^{\\frac{2}{3}}\\\\0 & 2 - \\left(-1\\right)^{\\frac{2}{3}} + \\sqrt[3]{-1} & 2 - \\left(-1\\right)^{\\frac{2}{3}} + \\sqrt[3]{-1}\\\\0 & 2 - \\left(-1\\right)^{\\frac{2}{3}} + \\sqrt[3]{-1} & 2 - \\left(-1\\right)^{\\frac{2}{3}} + \\sqrt[3]{-1}\\\\0 & 2 - \\left(-1\\right)^{\\frac{2}{3}} + \\sqrt[3]{-1} & 2 - \\left(-1\\right)^{\\frac{2}{3}} + \\sqrt[3]{-1}\\end{matrix}\\right]$"
      ],
      "text/plain": [
       "Matrix([\n",
       "[16, 10 - 3*(-1)**(1/3) + 3*(-1)**(2/3), 10 - 3*(-1)**(1/3) + 3*(-1)**(2/3)],\n",
       "[ 0,      2 - (-1)**(2/3) + (-1)**(1/3),      2 - (-1)**(2/3) + (-1)**(1/3)],\n",
       "[ 0,      2 - (-1)**(2/3) + (-1)**(1/3),      2 - (-1)**(2/3) + (-1)**(1/3)],\n",
       "[ 0,      2 - (-1)**(2/3) + (-1)**(1/3),      2 - (-1)**(2/3) + (-1)**(1/3)]])"
      ]
     },
     "execution_count": 35,
     "metadata": {},
     "output_type": "execute_result"
    }
   ],
   "source": [
    "Csf[2][2]"
   ]
  },
  {
   "cell_type": "markdown",
   "metadata": {},
   "source": [
    "Since in all auto-correlations components of the corresponding DFT vanish, no choice for $\\gamma$ can be found in order to use the approach of NFK."
   ]
  },
  {
   "cell_type": "code",
   "execution_count": null,
   "metadata": {},
   "outputs": [],
   "source": []
  }
 ],
 "metadata": {
  "kernelspec": {
   "display_name": "Python 3 (Spyder)",
   "language": "python3",
   "name": "python3"
  },
  "language_info": {
   "codemirror_mode": {
    "name": "ipython",
    "version": 3
   },
   "file_extension": ".py",
   "mimetype": "text/x-python",
   "name": "python",
   "nbconvert_exporter": "python",
   "pygments_lexer": "ipython3",
   "version": "3.7.6"
  }
 },
 "nbformat": 4,
 "nbformat_minor": 4
}
