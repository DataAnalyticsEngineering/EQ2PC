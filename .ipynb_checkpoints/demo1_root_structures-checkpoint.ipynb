{
 "cells": [
  {
   "cell_type": "markdown",
   "metadata": {},
   "source": [
    "# Demo 1: Search for 2pc-equivalent root structures\n",
    "\n",
    "* Author: Mauricio Fernández\n",
    "* Date of creation: 2020-06-10\n",
    "* Last update: 2020-06-12\n",
    "\n",
    "Table of contents\n",
    "\n",
    "* [1. Examples in 1D](#1.-Examples-in-1D)\n",
    "* [2. Examples in 2D](#2.-Examples-in-2D)\n",
    "* [3. Example from 1D to 3D](#3.-Example-from-1D-to-3D)\n",
    "* [4. Save and load root structures](#4.-Save-and-load-root-structures)"
   ]
  },
  {
   "cell_type": "markdown",
   "metadata": {},
   "source": [
    "## Description\n",
    "The present notebook demonstrates how 2pc-equivalent root structures with 2 and 3 phases can be searched for in 1D, 2D and 3D. At the end of the notebook, found root structures are saved for future generation of 2pc-equivalent child structures."
   ]
  },
  {
   "cell_type": "code",
   "execution_count": 1,
   "metadata": {},
   "outputs": [],
   "source": [
    "import src.eq2pc as e2"
   ]
  },
  {
   "cell_type": "markdown",
   "metadata": {},
   "source": [
    "## 1. Examples in 1D"
   ]
  },
  {
   "cell_type": "markdown",
   "metadata": {},
   "source": [
    "For a 1D-structure with 12 positions and 5 events in phase 1 (and 12-5=7 events in phase 2), search for existing 2pc-equivalent structure sets."
   ]
  },
  {
   "cell_type": "code",
   "execution_count": 2,
   "metadata": {},
   "outputs": [
    {
     "name": "stdout",
     "output_type": "stream",
     "text": [
      "...Generating indicator arrays\n",
      "...Computing correlations\n",
      "...Computing correlations - 2 / 330 = 0.0061\n",
      "...Computing correlations - 3 / 330 = 0.0091\n",
      "...Computing correlations - 4 / 330 = 0.0121\n",
      "...Computing correlations - 5 / 330 = 0.0152\n",
      "...Computing correlations - 6 / 330 = 0.0182\n",
      "...Computing correlations - 7 / 330 = 0.0212\n",
      "...Computing correlations - 8 / 330 = 0.0242\n",
      "...Computing correlations - 9 / 330 = 0.0273\n",
      "...Computing correlations - 10 / 330 = 0.0303\n",
      "...Computing correlations - 11 / 330 = 0.0333\n",
      "...Computing correlations - 12 / 330 = 0.0364\n",
      "...Computing correlations - 13 / 330 = 0.0394\n",
      "...Computing correlations - 14 / 330 = 0.0424\n",
      "...Computing correlations - 15 / 330 = 0.0455\n",
      "...Computing correlations - 16 / 330 = 0.0485\n",
      "...Computing correlations - 17 / 330 = 0.0515\n",
      "...Computing correlations - 18 / 330 = 0.0545\n",
      "...Computing correlations - 19 / 330 = 0.0576\n",
      "...Computing correlations - 20 / 330 = 0.0606\n",
      "...Computing correlations - 21 / 330 = 0.0636\n",
      "...Computing correlations - 22 / 330 = 0.0667\n",
      "...Computing correlations - 23 / 330 = 0.0697\n",
      "...Computing correlations - 24 / 330 = 0.0727\n",
      "...Computing correlations - 25 / 330 = 0.0758\n",
      "...Computing correlations - 26 / 330 = 0.0788\n",
      "...Computing correlations - 27 / 330 = 0.0818\n",
      "...Computing correlations - 28 / 330 = 0.0848\n",
      "...Computing correlations - 29 / 330 = 0.0879\n",
      "...Computing correlations - 30 / 330 = 0.0909\n",
      "...Computing correlations - 31 / 330 = 0.0939\n",
      "...Computing correlations - 32 / 330 = 0.0970\n",
      "...Computing correlations - 33 / 330 = 0.1000\n",
      "...Computing correlations - 34 / 330 = 0.1030\n",
      "...Computing correlations - 35 / 330 = 0.1061\n",
      "...Computing correlations - 36 / 330 = 0.1091\n",
      "...Computing correlations - 37 / 330 = 0.1121\n",
      "...Computing correlations - 38 / 330 = 0.1152\n",
      "...Computing correlations - 39 / 330 = 0.1182\n",
      "...Computing correlations - 40 / 330 = 0.1212\n",
      "...Computing correlations - 41 / 330 = 0.1242\n",
      "...Computing correlations - 42 / 330 = 0.1273\n",
      "...Computing correlations - 43 / 330 = 0.1303\n",
      "...Computing correlations - 44 / 330 = 0.1333\n",
      "...Computing correlations - 45 / 330 = 0.1364\n",
      "...Computing correlations - 46 / 330 = 0.1394\n",
      "...Computing correlations - 47 / 330 = 0.1424\n",
      "...Computing correlations - 48 / 330 = 0.1455\n",
      "...Computing correlations - 49 / 330 = 0.1485\n",
      "...Computing correlations - 50 / 330 = 0.1515\n",
      "...Computing correlations - 51 / 330 = 0.1545\n",
      "...Computing correlations - 52 / 330 = 0.1576\n",
      "...Computing correlations - 53 / 330 = 0.1606\n",
      "...Computing correlations - 54 / 330 = 0.1636\n",
      "...Computing correlations - 55 / 330 = 0.1667\n",
      "...Computing correlations - 56 / 330 = 0.1697\n",
      "...Computing correlations - 57 / 330 = 0.1727\n",
      "...Computing correlations - 58 / 330 = 0.1758\n",
      "...Computing correlations - 59 / 330 = 0.1788\n",
      "...Computing correlations - 60 / 330 = 0.1818\n",
      "...Computing correlations - 61 / 330 = 0.1848\n",
      "...Computing correlations - 62 / 330 = 0.1879\n",
      "...Computing correlations - 63 / 330 = 0.1909\n",
      "...Computing correlations - 64 / 330 = 0.1939\n",
      "...Computing correlations - 65 / 330 = 0.1970\n",
      "...Computing correlations - 66 / 330 = 0.2000\n",
      "...Computing correlations - 67 / 330 = 0.2030\n",
      "...Computing correlations - 68 / 330 = 0.2061\n",
      "...Computing correlations - 69 / 330 = 0.2091\n",
      "...Computing correlations - 70 / 330 = 0.2121\n",
      "...Computing correlations - 71 / 330 = 0.2152\n",
      "...Computing correlations - 72 / 330 = 0.2182\n",
      "...Computing correlations - 73 / 330 = 0.2212\n",
      "...Computing correlations - 74 / 330 = 0.2242\n",
      "...Computing correlations - 75 / 330 = 0.2273\n",
      "...Computing correlations - 76 / 330 = 0.2303\n",
      "...Computing correlations - 77 / 330 = 0.2333\n",
      "...Computing correlations - 78 / 330 = 0.2364\n",
      "...Computing correlations - 79 / 330 = 0.2394\n",
      "...Computing correlations - 80 / 330 = 0.2424\n",
      "...Computing correlations - 81 / 330 = 0.2455\n",
      "...Computing correlations - 82 / 330 = 0.2485\n",
      "...Computing correlations - 83 / 330 = 0.2515\n",
      "...Computing correlations - 84 / 330 = 0.2545\n",
      "...Computing correlations - 85 / 330 = 0.2576\n",
      "...Computing correlations - 86 / 330 = 0.2606\n",
      "...Computing correlations - 87 / 330 = 0.2636\n",
      "...Computing correlations - 88 / 330 = 0.2667\n",
      "...Computing correlations - 89 / 330 = 0.2697\n",
      "...Computing correlations - 90 / 330 = 0.2727\n",
      "...Computing correlations - 91 / 330 = 0.2758\n",
      "...Computing correlations - 92 / 330 = 0.2788\n",
      "...Computing correlations - 93 / 330 = 0.2818\n",
      "...Computing correlations - 94 / 330 = 0.2848\n",
      "...Computing correlations - 95 / 330 = 0.2879\n",
      "...Computing correlations - 96 / 330 = 0.2909\n",
      "...Computing correlations - 97 / 330 = 0.2939\n",
      "...Computing correlations - 98 / 330 = 0.2970\n",
      "...Computing correlations - 99 / 330 = 0.3000\n",
      "...Computing correlations - 100 / 330 = 0.3030\n",
      "...Computing correlations - 101 / 330 = 0.3061\n",
      "...Computing correlations - 102 / 330 = 0.3091\n",
      "...Computing correlations - 103 / 330 = 0.3121\n",
      "...Computing correlations - 104 / 330 = 0.3152\n",
      "...Computing correlations - 105 / 330 = 0.3182\n",
      "...Computing correlations - 106 / 330 = 0.3212\n",
      "...Computing correlations - 107 / 330 = 0.3242\n",
      "...Computing correlations - 108 / 330 = 0.3273\n",
      "...Computing correlations - 109 / 330 = 0.3303\n",
      "...Computing correlations - 110 / 330 = 0.3333\n",
      "...Computing correlations - 111 / 330 = 0.3364\n",
      "...Computing correlations - 112 / 330 = 0.3394\n",
      "...Computing correlations - 113 / 330 = 0.3424\n",
      "...Computing correlations - 114 / 330 = 0.3455\n",
      "...Computing correlations - 115 / 330 = 0.3485\n",
      "...Computing correlations - 116 / 330 = 0.3515\n",
      "...Computing correlations - 117 / 330 = 0.3545\n",
      "...Computing correlations - 118 / 330 = 0.3576\n",
      "...Computing correlations - 119 / 330 = 0.3606\n",
      "...Computing correlations - 120 / 330 = 0.3636\n",
      "...Computing correlations - 121 / 330 = 0.3667\n",
      "...Computing correlations - 122 / 330 = 0.3697\n",
      "...Computing correlations - 123 / 330 = 0.3727\n",
      "...Computing correlations - 124 / 330 = 0.3758\n",
      "...Computing correlations - 125 / 330 = 0.3788\n",
      "...Computing correlations - 126 / 330 = 0.3818\n",
      "...Computing correlations - 127 / 330 = 0.3848\n",
      "...Computing correlations - 128 / 330 = 0.3879\n",
      "...Computing correlations - 129 / 330 = 0.3909\n",
      "...Computing correlations - 130 / 330 = 0.3939\n",
      "...Computing correlations - 131 / 330 = 0.3970\n",
      "...Computing correlations - 132 / 330 = 0.4000\n",
      "...Computing correlations - 133 / 330 = 0.4030\n",
      "...Computing correlations - 134 / 330 = 0.4061\n",
      "...Computing correlations - 135 / 330 = 0.4091\n",
      "...Computing correlations - 136 / 330 = 0.4121\n",
      "...Computing correlations - 137 / 330 = 0.4152\n",
      "...Computing correlations - 138 / 330 = 0.4182\n",
      "...Computing correlations - 139 / 330 = 0.4212\n",
      "...Computing correlations - 140 / 330 = 0.4242\n",
      "...Computing correlations - 141 / 330 = 0.4273\n",
      "...Computing correlations - 142 / 330 = 0.4303\n",
      "...Computing correlations - 143 / 330 = 0.4333\n",
      "...Computing correlations - 144 / 330 = 0.4364\n",
      "...Computing correlations - 145 / 330 = 0.4394\n",
      "...Computing correlations - 146 / 330 = 0.4424\n",
      "...Computing correlations - 147 / 330 = 0.4455\n",
      "...Computing correlations - 148 / 330 = 0.4485\n",
      "...Computing correlations - 149 / 330 = 0.4515\n",
      "...Computing correlations - 150 / 330 = 0.4545\n",
      "...Computing correlations - 151 / 330 = 0.4576\n",
      "...Computing correlations - 152 / 330 = 0.4606\n",
      "...Computing correlations - 153 / 330 = 0.4636\n",
      "...Computing correlations - 154 / 330 = 0.4667\n",
      "...Computing correlations - 155 / 330 = 0.4697\n",
      "...Computing correlations - 156 / 330 = 0.4727\n",
      "...Computing correlations - 157 / 330 = 0.4758\n",
      "...Computing correlations - 158 / 330 = 0.4788\n",
      "...Computing correlations - 159 / 330 = 0.4818\n",
      "...Computing correlations - 160 / 330 = 0.4848\n",
      "...Computing correlations - 161 / 330 = 0.4879\n",
      "...Computing correlations - 162 / 330 = 0.4909\n",
      "...Computing correlations - 163 / 330 = 0.4939\n",
      "...Computing correlations - 164 / 330 = 0.4970\n",
      "...Computing correlations - 165 / 330 = 0.5000\n",
      "...Computing correlations - 166 / 330 = 0.5030\n",
      "...Computing correlations - 167 / 330 = 0.5061\n",
      "...Computing correlations - 168 / 330 = 0.5091\n",
      "...Computing correlations - 169 / 330 = 0.5121\n",
      "...Computing correlations - 170 / 330 = 0.5152\n",
      "...Computing correlations - 171 / 330 = 0.5182\n",
      "...Computing correlations - 172 / 330 = 0.5212\n",
      "...Computing correlations - 173 / 330 = 0.5242\n",
      "...Computing correlations - 174 / 330 = 0.5273\n",
      "...Computing correlations - 175 / 330 = 0.5303\n",
      "...Computing correlations - 176 / 330 = 0.5333\n",
      "...Computing correlations - 177 / 330 = 0.5364\n",
      "...Computing correlations - 178 / 330 = 0.5394\n",
      "...Computing correlations - 179 / 330 = 0.5424\n",
      "...Computing correlations - 180 / 330 = 0.5455\n",
      "...Computing correlations - 181 / 330 = 0.5485\n",
      "...Computing correlations - 182 / 330 = 0.5515\n",
      "...Computing correlations - 183 / 330 = 0.5545\n",
      "...Computing correlations - 184 / 330 = 0.5576\n",
      "...Computing correlations - 185 / 330 = 0.5606\n",
      "...Computing correlations - 186 / 330 = 0.5636\n",
      "...Computing correlations - 187 / 330 = 0.5667\n",
      "...Computing correlations - 188 / 330 = 0.5697\n",
      "...Computing correlations - 189 / 330 = 0.5727\n",
      "...Computing correlations - 190 / 330 = 0.5758\n",
      "...Computing correlations - 191 / 330 = 0.5788\n",
      "...Computing correlations - 192 / 330 = 0.5818\n",
      "...Computing correlations - 193 / 330 = 0.5848\n",
      "...Computing correlations - 194 / 330 = 0.5879\n",
      "...Computing correlations - 195 / 330 = 0.5909\n",
      "...Computing correlations - 196 / 330 = 0.5939\n",
      "...Computing correlations - 197 / 330 = 0.5970\n",
      "...Computing correlations - 198 / 330 = 0.6000\n",
      "...Computing correlations - 199 / 330 = 0.6030\n",
      "...Computing correlations - 200 / 330 = 0.6061\n",
      "...Computing correlations - 201 / 330 = 0.6091\n",
      "...Computing correlations - 202 / 330 = 0.6121\n",
      "...Computing correlations - 203 / 330 = 0.6152\n",
      "...Computing correlations - 204 / 330 = 0.6182\n"
     ]
    },
    {
     "name": "stdout",
     "output_type": "stream",
     "text": [
      "...Computing correlations - 205 / 330 = 0.6212\n",
      "...Computing correlations - 206 / 330 = 0.6242\n",
      "...Computing correlations - 207 / 330 = 0.6273\n",
      "...Computing correlations - 208 / 330 = 0.6303\n",
      "...Computing correlations - 209 / 330 = 0.6333\n",
      "...Computing correlations - 210 / 330 = 0.6364\n",
      "...Computing correlations - 211 / 330 = 0.6394\n",
      "...Computing correlations - 212 / 330 = 0.6424\n",
      "...Computing correlations - 213 / 330 = 0.6455\n",
      "...Computing correlations - 214 / 330 = 0.6485\n",
      "...Computing correlations - 215 / 330 = 0.6515\n",
      "...Computing correlations - 216 / 330 = 0.6545\n",
      "...Computing correlations - 217 / 330 = 0.6576\n",
      "...Computing correlations - 218 / 330 = 0.6606\n",
      "...Computing correlations - 219 / 330 = 0.6636\n",
      "...Computing correlations - 220 / 330 = 0.6667\n",
      "...Computing correlations - 221 / 330 = 0.6697\n",
      "...Computing correlations - 222 / 330 = 0.6727\n",
      "...Computing correlations - 223 / 330 = 0.6758\n",
      "...Computing correlations - 224 / 330 = 0.6788\n",
      "...Computing correlations - 225 / 330 = 0.6818\n",
      "...Computing correlations - 226 / 330 = 0.6848\n",
      "...Computing correlations - 227 / 330 = 0.6879\n",
      "...Computing correlations - 228 / 330 = 0.6909\n",
      "...Computing correlations - 229 / 330 = 0.6939\n",
      "...Computing correlations - 230 / 330 = 0.6970\n",
      "...Computing correlations - 231 / 330 = 0.7000\n",
      "...Computing correlations - 232 / 330 = 0.7030\n",
      "...Computing correlations - 233 / 330 = 0.7061\n",
      "...Computing correlations - 234 / 330 = 0.7091\n",
      "...Computing correlations - 235 / 330 = 0.7121\n",
      "...Computing correlations - 236 / 330 = 0.7152\n",
      "...Computing correlations - 237 / 330 = 0.7182\n",
      "...Computing correlations - 238 / 330 = 0.7212\n",
      "...Computing correlations - 239 / 330 = 0.7242\n",
      "...Computing correlations - 240 / 330 = 0.7273\n",
      "...Computing correlations - 241 / 330 = 0.7303\n",
      "...Computing correlations - 242 / 330 = 0.7333\n",
      "...Computing correlations - 243 / 330 = 0.7364\n",
      "...Computing correlations - 244 / 330 = 0.7394\n",
      "...Computing correlations - 245 / 330 = 0.7424\n",
      "...Computing correlations - 246 / 330 = 0.7455\n",
      "...Computing correlations - 247 / 330 = 0.7485\n",
      "...Computing correlations - 248 / 330 = 0.7515\n",
      "...Computing correlations - 249 / 330 = 0.7545\n",
      "...Computing correlations - 250 / 330 = 0.7576\n",
      "...Computing correlations - 251 / 330 = 0.7606\n",
      "...Computing correlations - 252 / 330 = 0.7636\n",
      "...Computing correlations - 253 / 330 = 0.7667\n",
      "...Computing correlations - 254 / 330 = 0.7697\n",
      "...Computing correlations - 255 / 330 = 0.7727\n",
      "...Computing correlations - 256 / 330 = 0.7758\n",
      "...Computing correlations - 257 / 330 = 0.7788\n",
      "...Computing correlations - 258 / 330 = 0.7818\n",
      "...Computing correlations - 259 / 330 = 0.7848\n",
      "...Computing correlations - 260 / 330 = 0.7879\n",
      "...Computing correlations - 261 / 330 = 0.7909\n",
      "...Computing correlations - 262 / 330 = 0.7939\n",
      "...Computing correlations - 263 / 330 = 0.7970\n",
      "...Computing correlations - 264 / 330 = 0.8000\n",
      "...Computing correlations - 265 / 330 = 0.8030\n",
      "...Computing correlations - 266 / 330 = 0.8061\n",
      "...Computing correlations - 267 / 330 = 0.8091\n",
      "...Computing correlations - 268 / 330 = 0.8121\n",
      "...Computing correlations - 269 / 330 = 0.8152\n",
      "...Computing correlations - 270 / 330 = 0.8182\n",
      "...Computing correlations - 271 / 330 = 0.8212\n",
      "...Computing correlations - 272 / 330 = 0.8242\n",
      "...Computing correlations - 273 / 330 = 0.8273\n",
      "...Computing correlations - 274 / 330 = 0.8303\n",
      "...Computing correlations - 275 / 330 = 0.8333\n",
      "...Computing correlations - 276 / 330 = 0.8364\n",
      "...Computing correlations - 277 / 330 = 0.8394\n",
      "...Computing correlations - 278 / 330 = 0.8424\n",
      "...Computing correlations - 279 / 330 = 0.8455\n",
      "...Computing correlations - 280 / 330 = 0.8485\n",
      "...Computing correlations - 281 / 330 = 0.8515\n",
      "...Computing correlations - 282 / 330 = 0.8545\n",
      "...Computing correlations - 283 / 330 = 0.8576\n",
      "...Computing correlations - 284 / 330 = 0.8606\n",
      "...Computing correlations - 285 / 330 = 0.8636\n",
      "...Computing correlations - 286 / 330 = 0.8667\n",
      "...Computing correlations - 287 / 330 = 0.8697\n",
      "...Computing correlations - 288 / 330 = 0.8727\n",
      "...Computing correlations - 289 / 330 = 0.8758\n",
      "...Computing correlations - 290 / 330 = 0.8788\n",
      "...Computing correlations - 291 / 330 = 0.8818\n",
      "...Computing correlations - 292 / 330 = 0.8848\n",
      "...Computing correlations - 293 / 330 = 0.8879\n",
      "...Computing correlations - 294 / 330 = 0.8909\n",
      "...Computing correlations - 295 / 330 = 0.8939\n",
      "...Computing correlations - 296 / 330 = 0.8970\n",
      "...Computing correlations - 297 / 330 = 0.9000\n",
      "...Computing correlations - 298 / 330 = 0.9030\n",
      "...Computing correlations - 299 / 330 = 0.9061\n",
      "...Computing correlations - 300 / 330 = 0.9091\n",
      "...Computing correlations - 301 / 330 = 0.9121\n",
      "...Computing correlations - 302 / 330 = 0.9152\n",
      "...Computing correlations - 303 / 330 = 0.9182\n",
      "...Computing correlations - 304 / 330 = 0.9212\n",
      "...Computing correlations - 305 / 330 = 0.9242\n",
      "...Computing correlations - 306 / 330 = 0.9273\n",
      "...Computing correlations - 307 / 330 = 0.9303\n",
      "...Computing correlations - 308 / 330 = 0.9333\n",
      "...Computing correlations - 309 / 330 = 0.9364\n",
      "...Computing correlations - 310 / 330 = 0.9394\n",
      "...Computing correlations - 311 / 330 = 0.9424\n",
      "...Computing correlations - 312 / 330 = 0.9455\n",
      "...Computing correlations - 313 / 330 = 0.9485\n",
      "...Computing correlations - 314 / 330 = 0.9515\n",
      "...Computing correlations - 315 / 330 = 0.9545\n",
      "...Computing correlations - 316 / 330 = 0.9576\n",
      "...Computing correlations - 317 / 330 = 0.9606\n",
      "...Computing correlations - 318 / 330 = 0.9636\n",
      "...Computing correlations - 319 / 330 = 0.9667\n",
      "...Computing correlations - 320 / 330 = 0.9697\n",
      "...Computing correlations - 321 / 330 = 0.9727\n",
      "...Computing correlations - 322 / 330 = 0.9758\n",
      "...Computing correlations - 323 / 330 = 0.9788\n",
      "...Computing correlations - 324 / 330 = 0.9818\n",
      "...Computing correlations - 325 / 330 = 0.9848\n",
      "...Computing correlations - 326 / 330 = 0.9879\n",
      "...Computing correlations - 327 / 330 = 0.9909\n",
      "...Computing correlations - 328 / 330 = 0.9939\n",
      "...Computing correlations - 329 / 330 = 0.9970\n",
      "...Computing correlations - 330 / 330 = 1.0000\n",
      "...Searching for cases\n",
      "...Searching for cases - 1 / 330 = 0.0030\n",
      "...Searching for cases - 2 / 330 = 0.0061\n",
      "...Searching for cases - 3 / 330 = 0.0091\n",
      "...Searching for cases - 4 / 330 = 0.0121\n",
      "...Searching for cases - 5 / 330 = 0.0152\n",
      "...Searching for cases - 6 / 330 = 0.0182\n",
      "...Searching for cases - 7 / 330 = 0.0212\n",
      "...Searching for cases - 8 / 330 = 0.0242\n",
      "...Searching for cases - 9 / 330 = 0.0273\n",
      "...Searching for cases - 10 / 330 = 0.0303\n",
      "...Searching for cases - 11 / 330 = 0.0333\n",
      "...Number of structure sets: 1\n",
      "[array([[1, 1, 1, 2, 1, 2, 2, 1, 2, 2, 2, 2],\n",
      "       [1, 1, 2, 1, 2, 1, 1, 2, 2, 2, 2, 2]])]\n"
     ]
    }
   ],
   "source": [
    "sets = e2.Ceq_search([12], [5], info=True)\n",
    "print(sets)"
   ]
  },
  {
   "cell_type": "markdown",
   "metadata": {},
   "source": [
    "Extract structures and visualize"
   ]
  },
  {
   "cell_type": "code",
   "execution_count": 3,
   "metadata": {},
   "outputs": [
    {
     "data": {
      "text/plain": [
       "<Figure size 432x288 with 0 Axes>"
      ]
     },
     "metadata": {},
     "output_type": "display_data"
    },
    {
     "data": {
      "image/png": "[encoded data removed]",
      "text/plain": [
       "<Figure size 1152x144 with 2 Axes>"
      ]
     },
     "metadata": {},
     "output_type": "display_data"
    },
    {
     "data": {
      "text/plain": [
       "<Figure size 432x288 with 0 Axes>"
      ]
     },
     "metadata": {},
     "output_type": "display_data"
    },
    {
     "data": {
      "image/png": "[encoded data removed]",
      "text/plain": [
       "<Figure size 1152x144 with 2 Axes>"
      ]
     },
     "metadata": {},
     "output_type": "display_data"
    }
   ],
   "source": [
    "S1 = sets[0][0]\n",
    "S2 = sets[0][1]\n",
    "e2.plot_S(S1)\n",
    "e2.plot_S(S2)"
   ]
  },
  {
   "cell_type": "markdown",
   "metadata": {},
   "source": [
    "Are the structures related by translation, reflection or phase inversion?"
   ]
  },
  {
   "cell_type": "code",
   "execution_count": 4,
   "metadata": {},
   "outputs": [
    {
     "data": {
      "text/plain": [
       "False"
      ]
     },
     "execution_count": 4,
     "metadata": {},
     "output_type": "execute_result"
    }
   ],
   "source": [
    "e2.rel(S1,S2)"
   ]
  },
  {
   "cell_type": "markdown",
   "metadata": {},
   "source": [
    "Are the structures 2pc-equivalent?"
   ]
  },
  {
   "cell_type": "code",
   "execution_count": 5,
   "metadata": {},
   "outputs": [
    {
     "data": {
      "text/plain": [
       "True"
      ]
     },
     "execution_count": 5,
     "metadata": {},
     "output_type": "execute_result"
    }
   ],
   "source": [
    "e2.Ceq(S1,S2)"
   ]
  },
  {
   "cell_type": "markdown",
   "metadata": {},
   "source": [
    "For a 1D-structure with 12 positions with (2,3,12-2-3) events for phases 1,2,3 search for existing 2pc-equivalent structure sets and visualize."
   ]
  },
  {
   "cell_type": "code",
   "execution_count": 6,
   "metadata": {},
   "outputs": [
    {
     "name": "stdout",
     "output_type": "stream",
     "text": [
      "...Generating indicator arrays\n",
      "...Computing correlations\n",
      "...Searching for cases\n",
      "...Number of structure sets: 1\n"
     ]
    },
    {
     "data": {
      "text/plain": [
       "<Figure size 432x288 with 0 Axes>"
      ]
     },
     "metadata": {},
     "output_type": "display_data"
    },
    {
     "data": {
      "image/png": "[encoded data removed]",
      "text/plain": [
       "<Figure size 1152x144 with 2 Axes>"
      ]
     },
     "metadata": {},
     "output_type": "display_data"
    },
    {
     "data": {
      "text/plain": [
       "<Figure size 432x288 with 0 Axes>"
      ]
     },
     "metadata": {},
     "output_type": "display_data"
    },
    {
     "data": {
      "image/png": "[encoded data removed]",
      "text/plain": [
       "<Figure size 1152x144 with 2 Axes>"
      ]
     },
     "metadata": {},
     "output_type": "display_data"
    }
   ],
   "source": [
    "sets = e2.Ceq_search([12], [2, 3])\n",
    "for S in sets[0]: e2.plot_S(S)"
   ]
  },
  {
   "cell_type": "markdown",
   "metadata": {},
   "source": [
    "## 2. Examples in 2D"
   ]
  },
  {
   "cell_type": "markdown",
   "metadata": {},
   "source": [
    "For a 2D-structure with dimensions (4,3) and (5,12-5) events for phases 1 and 2, search for 2pc-equivalent structure sets, visualize, check relations and 2pc-equivalence."
   ]
  },
  {
   "cell_type": "code",
   "execution_count": 7,
   "metadata": {},
   "outputs": [
    {
     "name": "stdout",
     "output_type": "stream",
     "text": [
      "...Generating indicator arrays\n",
      "...Computing correlations\n",
      "...Searching for cases\n",
      "...Number of structure sets: 1\n"
     ]
    },
    {
     "data": {
      "text/plain": [
       "<Figure size 432x288 with 0 Axes>"
      ]
     },
     "metadata": {},
     "output_type": "display_data"
    },
    {
     "data": {
      "image/png": "[encoded data removed]",
      "text/plain": [
       "<Figure size 288x384 with 2 Axes>"
      ]
     },
     "metadata": {},
     "output_type": "display_data"
    },
    {
     "data": {
      "text/plain": [
       "<Figure size 432x288 with 0 Axes>"
      ]
     },
     "metadata": {},
     "output_type": "display_data"
    },
    {
     "data": {
      "image/png": "[encoded data removed]",
      "text/plain": [
       "<Figure size 288x384 with 2 Axes>"
      ]
     },
     "metadata": {},
     "output_type": "display_data"
    },
    {
     "name": "stdout",
     "output_type": "stream",
     "text": [
      "False\n",
      "True\n"
     ]
    }
   ],
   "source": [
    "sets = e2.Ceq_search([4, 3], [5])\n",
    "S1, S2 = sets[0]\n",
    "e2.plot_S(S1)\n",
    "e2.plot_S(S2)\n",
    "print(e2.rel(S1, S2))\n",
    "print(e2.Ceq(S1, S2))"
   ]
  },
  {
   "cell_type": "markdown",
   "metadata": {},
   "source": [
    "For a 2D-structure with dimensions (4,3) and (3,2,12-3-2) events in phases 1,2,3 search and visualize."
   ]
  },
  {
   "cell_type": "code",
   "execution_count": 8,
   "metadata": {},
   "outputs": [
    {
     "name": "stdout",
     "output_type": "stream",
     "text": [
      "...Generating indicator arrays\n",
      "...Computing correlations\n",
      "...Searching for cases\n",
      "...Number of structure sets: 1\n"
     ]
    },
    {
     "data": {
      "text/plain": [
       "<Figure size 432x288 with 0 Axes>"
      ]
     },
     "metadata": {},
     "output_type": "display_data"
    },
    {
     "data": {
      "image/png": "[encoded data removed]",
      "text/plain": [
       "<Figure size 288x384 with 2 Axes>"
      ]
     },
     "metadata": {},
     "output_type": "display_data"
    },
    {
     "data": {
      "text/plain": [
       "<Figure size 432x288 with 0 Axes>"
      ]
     },
     "metadata": {},
     "output_type": "display_data"
    },
    {
     "data": {
      "image/png": "[encoded data removed]",
      "text/plain": [
       "<Figure size 288x384 with 2 Axes>"
      ]
     },
     "metadata": {},
     "output_type": "display_data"
    }
   ],
   "source": [
    "sets = e2.Ceq_search([4, 3], [3, 2])\n",
    "for S in sets[0]: e2.plot_S(S)"
   ]
  },
  {
   "cell_type": "markdown",
   "metadata": {},
   "source": [
    "## 3. Example from 1D to 3D"
   ]
  },
  {
   "cell_type": "code",
   "execution_count": 9,
   "metadata": {},
   "outputs": [
    {
     "name": "stdout",
     "output_type": "stream",
     "text": [
      "...Generating indicator arrays\n",
      "...Computing correlations\n",
      "...Searching for cases\n",
      "...Number of structure sets: 1\n"
     ]
    },
    {
     "data": {
      "image/png": "[encoded data removed]",
      "text/plain": [
       "<Figure size 432x288 with 1 Axes>"
      ]
     },
     "metadata": {},
     "output_type": "display_data"
    },
    {
     "data": {
      "image/png": "[encoded data removed]",
      "text/plain": [
       "<Figure size 432x288 with 1 Axes>"
      ]
     },
     "metadata": {},
     "output_type": "display_data"
    }
   ],
   "source": [
    "sets = e2.Ceq_search([2, 3, 4], [5])\n",
    "for S in sets[0]: e2.plot_S(S)"
   ]
  },
  {
   "cell_type": "markdown",
   "metadata": {},
   "source": [
    "## 4. Save and load root structures"
   ]
  },
  {
   "cell_type": "markdown",
   "metadata": {},
   "source": [
    "Seach and save found examples"
   ]
  },
  {
   "cell_type": "code",
   "execution_count": 10,
   "metadata": {},
   "outputs": [
    {
     "name": "stdout",
     "output_type": "stream",
     "text": [
      "...Generating indicator arrays\n",
      "...Computing correlations\n",
      "...Searching for cases\n",
      "...Number of structure sets: 1\n",
      "0:00:01.601741\n",
      "...Case found\n",
      "...Saving\n",
      "...Deleted old folder\n",
      "...Created folder\n",
      "data/roots/2d_4_3_nev_5\n"
     ]
    }
   ],
   "source": [
    "folder = e2.Ceq_search_save([4, 3], [5])\n",
    "print(folder)"
   ]
  },
  {
   "cell_type": "code",
   "execution_count": 11,
   "metadata": {},
   "outputs": [
    {
     "data": {
      "text/plain": [
       "<Figure size 432x288 with 0 Axes>"
      ]
     },
     "metadata": {},
     "output_type": "display_data"
    },
    {
     "data": {
      "image/png": "[encoded data removed]",
      "text/plain": [
       "<Figure size 288x384 with 2 Axes>"
      ]
     },
     "metadata": {},
     "output_type": "display_data"
    },
    {
     "data": {
      "text/plain": [
       "<Figure size 432x288 with 0 Axes>"
      ]
     },
     "metadata": {},
     "output_type": "display_data"
    },
    {
     "data": {
      "image/png": "[encoded data removed]",
      "text/plain": [
       "<Figure size 288x384 with 2 Axes>"
      ]
     },
     "metadata": {},
     "output_type": "display_data"
    },
    {
     "name": "stdout",
     "output_type": "stream",
     "text": [
      "Are the shown structures related?\n",
      "\tFalse\n",
      "Are the shown structures 2PC-equivalent?\n",
      "\tTrue\n"
     ]
    }
   ],
   "source": [
    "loaded = e2.root_load(folder)"
   ]
  },
  {
   "cell_type": "code",
   "execution_count": 12,
   "metadata": {},
   "outputs": [
    {
     "name": "stdout",
     "output_type": "stream",
     "text": [
      "[[[1 1 2]\n",
      "  [1 2 2]\n",
      "  [2 2 1]\n",
      "  [1 2 2]]\n",
      "\n",
      " [[1 1 2]\n",
      "  [2 2 1]\n",
      "  [2 2 1]\n",
      "  [2 2 1]]]\n"
     ]
    }
   ],
   "source": [
    "print(loaded)"
   ]
  },
  {
   "cell_type": "markdown",
   "metadata": {},
   "source": [
    "Print list of currently available / saved roots"
   ]
  },
  {
   "cell_type": "code",
   "execution_count": 13,
   "metadata": {},
   "outputs": [
    {
     "name": "stdout",
     "output_type": "stream",
     "text": [
      "List of currently available roots:\n",
      "\tdata/roots/1d_12_nev_5\n",
      "\tdata/roots/2d_4_3_nev_3_2\n",
      "\tdata/roots/2d_4_3_nev_5\n",
      "\tdata/roots/3d_2_3_4_nev_5\n",
      "['data/roots/1d_12_nev_5', 'data/roots/2d_4_3_nev_3_2', 'data/roots/2d_4_3_nev_5', 'data/roots/3d_2_3_4_nev_5']\n"
     ]
    }
   ],
   "source": [
    "out = e2.roots_saved()\n",
    "print(out)"
   ]
  },
  {
   "cell_type": "markdown",
   "metadata": {},
   "source": [
    "Search and save more examples"
   ]
  },
  {
   "cell_type": "code",
   "execution_count": 14,
   "metadata": {},
   "outputs": [
    {
     "name": "stdout",
     "output_type": "stream",
     "text": [
      "...Generating indicator arrays\n",
      "...Computing correlations\n",
      "...Searching for cases\n",
      "...Number of structure sets: 1\n",
      "0:00:00.500078\n",
      "...Case found\n",
      "...Saving\n",
      "...Deleted old folder\n",
      "...Created folder\n",
      "...Generating indicator arrays\n",
      "...Computing correlations\n",
      "...Searching for cases\n",
      "...Number of structure sets: 1\n",
      "0:00:11.399497\n",
      "...Case found\n",
      "...Saving\n",
      "...Deleted old folder\n",
      "...Created folder\n",
      "...Generating indicator arrays\n",
      "...Computing correlations\n",
      "...Searching for cases\n",
      "...Number of structure sets: 1\n",
      "0:00:32.606923\n",
      "...Case found\n",
      "...Saving\n",
      "...Deleted old folder\n",
      "...Created folder\n"
     ]
    },
    {
     "data": {
      "text/plain": [
       "'data/roots/3d_2_3_4_nev_5'"
      ]
     },
     "execution_count": 14,
     "metadata": {},
     "output_type": "execute_result"
    }
   ],
   "source": [
    "e2.Ceq_search_save([12], [5])\n",
    "e2.Ceq_search_save([4, 3], [3, 2])\n",
    "e2.Ceq_search_save([2, 3, 4], [5])"
   ]
  },
  {
   "cell_type": "code",
   "execution_count": 15,
   "metadata": {},
   "outputs": [
    {
     "name": "stdout",
     "output_type": "stream",
     "text": [
      "List of currently available roots:\n",
      "\tdata/roots/1d_12_nev_5\n",
      "\tdata/roots/2d_4_3_nev_3_2\n",
      "\tdata/roots/2d_4_3_nev_5\n",
      "\tdata/roots/3d_2_3_4_nev_5\n"
     ]
    }
   ],
   "source": [
    "out = e2.roots_saved()"
   ]
  },
  {
   "cell_type": "code",
   "execution_count": 16,
   "metadata": {},
   "outputs": [
    {
     "name": "stdout",
     "output_type": "stream",
     "text": [
      "['data/roots/1d_12_nev_5', 'data/roots/2d_4_3_nev_3_2', 'data/roots/2d_4_3_nev_5', 'data/roots/3d_2_3_4_nev_5']\n"
     ]
    }
   ],
   "source": [
    "print(out)"
   ]
  },
  {
   "cell_type": "code",
   "execution_count": null,
   "metadata": {},
   "outputs": [],
   "source": []
  }
 ],
 "metadata": {
  "kernelspec": {
   "display_name": "Python 3 (Spyder)",
   "language": "python3",
   "name": "python3"
  },
  "language_info": {
   "codemirror_mode": {
    "name": "ipython",
    "version": 3
   },
   "file_extension": ".py",
   "mimetype": "text/x-python",
   "name": "python",
   "nbconvert_exporter": "python",
   "pygments_lexer": "ipython3",
   "version": "3.7.6"
  }
 },
 "nbformat": 4,
 "nbformat_minor": 4
}
